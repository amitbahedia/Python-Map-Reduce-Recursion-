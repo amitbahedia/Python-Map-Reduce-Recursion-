{
 "cells": [
  {
   "cell_type": "code",
   "execution_count": 1,
   "id": "ab342853-03b9-41d9-9af2-f1fdb818f453",
   "metadata": {},
   "outputs": [],
   "source": [
    "## MAP Function "
   ]
  },
  {
   "cell_type": "code",
   "execution_count": 2,
   "id": "67f8c255-071d-4707-a60d-8a39c5fe1326",
   "metadata": {},
   "outputs": [],
   "source": [
    "## Explain the purpose of the `map()` function in Python and provide an example of how it can be used to apply a function to each element of an iterable."
   ]
  },
  {
   "cell_type": "code",
   "execution_count": null,
   "id": "2bc89ae7-82b7-44f9-b906-aac7d869ef16",
   "metadata": {},
   "outputs": [],
   "source": [
    "\"\"\"\n",
    "The map function in python is a built in function that applies a givem function on each item in iterable (List, Tuple etc) and returns an iterator that contains the results. It takes two arguments: the function to apply and the iterable to apply it to. Here's the syntax:\n",
    "Syntax for the same is \n",
    "\n",
    "map(funtion, iterable)\n",
    "\"\"\"\n",
    "\n",
    "\n",
    "\n",
    "\n"
   ]
  },
  {
   "cell_type": "code",
   "execution_count": 3,
   "id": "8f9021bb-e5b1-4a2c-8a69-6152e48e5c02",
   "metadata": {},
   "outputs": [],
   "source": [
    "## simple example in which we have increased ecah element of list by 1"
   ]
  },
  {
   "cell_type": "code",
   "execution_count": 6,
   "id": "20ffb708-69b6-4798-9b91-e591cf3d69f1",
   "metadata": {},
   "outputs": [
    {
     "data": {
      "text/plain": [
       "[2, 3, 4, 5, 55, 6]"
      ]
     },
     "execution_count": 6,
     "metadata": {},
     "output_type": "execute_result"
    }
   ],
   "source": [
    "Input_List = [1,2,3,4,54,5]\n",
    "\n",
    "result  = map(lambda a : a+1, Input_List)\n",
    "\n",
    "list(result )"
   ]
  },
  {
   "cell_type": "code",
   "execution_count": 7,
   "id": "fe0a2884-bf7f-4122-a4d6-10d66d08b9b8",
   "metadata": {},
   "outputs": [],
   "source": [
    "## 2.\tWrite a Python program that uses the `map()` function to square each element of a list of numbers."
   ]
  },
  {
   "cell_type": "code",
   "execution_count": 8,
   "id": "4f8f2cab-e748-49d1-a57d-e95ef7a11f4a",
   "metadata": {},
   "outputs": [
    {
     "data": {
      "text/plain": [
       "[484, 1156, 458329, 4]"
      ]
     },
     "execution_count": 8,
     "metadata": {},
     "output_type": "execute_result"
    }
   ],
   "source": [
    "Input_List2 = [22,34,677,2]\n",
    "\n",
    "Final_Result = map(lambda a : a**2, Input_List2)\n",
    "\n",
    "list(Final_Result)\n"
   ]
  },
  {
   "cell_type": "code",
   "execution_count": 9,
   "id": "0d4bda98-11ee-4f4b-9964-bd366fa82670",
   "metadata": {},
   "outputs": [],
   "source": [
    "## 3.\tHow does the `map()` function differ from a list comprehension in Python, and when would you choose one over the other?"
   ]
  },
  {
   "cell_type": "markdown",
   "id": "732fc364-31db-46ae-86b3-a2cf98071abd",
   "metadata": {},
   "source": [
    "Both the map() function and list comprehensions in Python are used to apply a function to each item in an iterable. However, they differ in their syntax and functionality:\n",
    "\n",
    "Syntax: map() takes two arguments: the function to apply and the iterable to apply it to. List comprehensions use a more concise syntax that combines the function application and iteration into a single expression.\n",
    "\n",
    "Function Application: map() applies the function to each item in the iterable and returns an iterator that contains the transformed values. List comprehensions also apply the function and return a list, but they can also include conditional expressions to filter the results.\n",
    "\n",
    "Memory Usage: List comprehensions create a new list in memory, which can be inefficient for large iterables. map(), on the other hand, returns an iterator, which consumes less memory and can be lazy evaluated.\n",
    "\n",
    "Choosing between map() and list comprehensions:\n",
    "\n",
    "Use map(): When you need to apply a simple function to each item in an iterable without filtering or memory concerns.\n",
    "\n",
    "Use list comprehensions: When you want a more concise syntax, need to filter the results, or are worried about memory usage for large iterables.\n",
    "\n"
   ]
  },
  {
   "cell_type": "code",
   "execution_count": 10,
   "id": "f26b0d84-28cc-439a-84ed-c4d11dfade46",
   "metadata": {},
   "outputs": [],
   "source": [
    "## 4.\tCreate a Python program that uses the `map()` function to convert a list of names to uppercase."
   ]
  },
  {
   "cell_type": "code",
   "execution_count": 12,
   "id": "7e83a7dd-232d-4147-becf-b7e479b90b45",
   "metadata": {},
   "outputs": [
    {
     "data": {
      "text/plain": [
       "['AMIT', 'NIKSHIT', 'NIKKU']"
      ]
     },
     "execution_count": 12,
     "metadata": {},
     "output_type": "execute_result"
    }
   ],
   "source": [
    "Input_List3 = [\"Amit\", \"Nikshit\", \"Nikku\"]\n",
    "\n",
    "End_Result = map(lambda n : n.upper(), Input_List3)\n",
    "\n",
    "list(End_Result)"
   ]
  },
  {
   "cell_type": "code",
   "execution_count": 13,
   "id": "f99144fe-a291-40c7-a25d-46a1961d6e8f",
   "metadata": {},
   "outputs": [],
   "source": [
    "## 5.\tWrite a Python program that uses the `map()` function to calculate the length of each word in a list of strings."
   ]
  },
  {
   "cell_type": "code",
   "execution_count": 17,
   "id": "09aa9b68-92f3-44ea-8276-47e583d878b5",
   "metadata": {},
   "outputs": [
    {
     "data": {
      "text/plain": [
       "[4, 7, 5]"
      ]
     },
     "execution_count": 17,
     "metadata": {},
     "output_type": "execute_result"
    }
   ],
   "source": [
    "Input_List4 = [\"Amit\", \"Nikshit\", \"Nikku\"]\n",
    "\n",
    "Final_List = map(len, Input_List4)\n",
    "\n",
    "list(Final_List)\n",
    "               \n",
    "        "
   ]
  },
  {
   "cell_type": "code",
   "execution_count": 18,
   "id": "941f04af-1427-4434-940f-679f37181783",
   "metadata": {},
   "outputs": [],
   "source": [
    "## 6.\tHow can you use the `map()` function to apply a custom function to elements of multiple lists simultaneously in Python?"
   ]
  },
  {
   "cell_type": "markdown",
   "id": "5586e980-326d-4521-872a-94bdab1399a6",
   "metadata": {},
   "source": [
    "\n",
    "The map() function in Python can be used to apply a custom function to elements of multiple lists simultaneously by using the zip() function to create an iterator of corresponding elements from each list. The map() function then applies the custom function to each tuple of corresponding elements, returning an iterator of the transformed values."
   ]
  },
  {
   "cell_type": "code",
   "execution_count": 21,
   "id": "9d0278eb-d668-4e9c-9703-2cb409933df2",
   "metadata": {},
   "outputs": [
    {
     "data": {
      "text/plain": [
       "[6, 8, 10]"
      ]
     },
     "execution_count": 21,
     "metadata": {},
     "output_type": "execute_result"
    }
   ],
   "source": [
    "#here is the example\n",
    "\n",
    "def add(x, y):\n",
    "    return x + y\n",
    "\n",
    "l1 = [1,2,3,4]\n",
    "l2 = [5,6,7]\n",
    "\n",
    "End_Res = map(add, l1, l2)\n",
    "\n",
    "list(End_Res)\n"
   ]
  },
  {
   "cell_type": "code",
   "execution_count": 22,
   "id": "a52fa403-72c6-4b08-93f1-9f2c23251744",
   "metadata": {},
   "outputs": [],
   "source": [
    "## 7.\tCreate a Python program that uses `map()` to convert a list of temperatures from Celsius to Fahrenheit."
   ]
  },
  {
   "cell_type": "code",
   "execution_count": 3,
   "id": "b645e1f6-ca59-40ec-b78a-31a629ef73b4",
   "metadata": {},
   "outputs": [
    {
     "data": {
      "text/plain": [
       "[73.4, 113.0, 152.6, 172.4]"
      ]
     },
     "execution_count": 3,
     "metadata": {},
     "output_type": "execute_result"
    }
   ],
   "source": [
    "def temp_in_Fahrenheit(l3):\n",
    "    return((l3 * 9/5) + 32)\n",
    "\n",
    "list_in_Celcius = [23,45,67,78]\n",
    "\n",
    "temp_in_Fahrenheit = map(temp_in_Fahrenheit, list_in_Celcius)\n",
    "\n",
    "list(temp_in_Fahrenheit)\n"
   ]
  },
  {
   "cell_type": "code",
   "execution_count": 4,
   "id": "904e3545-888d-49ac-99ca-eddfc07950c6",
   "metadata": {},
   "outputs": [],
   "source": [
    "## 8.\tWrite a Python program that uses the `map()` function to round each element of a list of floating-point numbers to the nearest integer."
   ]
  },
  {
   "cell_type": "code",
   "execution_count": 7,
   "id": "cea9ef19-a7c2-43ff-aaa3-f78eb5d200dc",
   "metadata": {},
   "outputs": [
    {
     "data": {
      "text/plain": [
       "[12, 46, 46, 24]"
      ]
     },
     "execution_count": 7,
     "metadata": {},
     "output_type": "execute_result"
    }
   ],
   "source": [
    "def nearest_integer(l4):\n",
    "    return(round(l4))\n",
    "\n",
    "Float_List = [12.3, 45.667, 45.78,23.56]\n",
    "\n",
    "Nearest_Integer_list = map(nearest_integer, Float_List)\n",
    "\n",
    "list(Nearest_Integer_list)"
   ]
  },
  {
   "cell_type": "code",
   "execution_count": 8,
   "id": "f53fccb3-0cc0-47e3-8447-e52b8aaa1b18",
   "metadata": {},
   "outputs": [],
   "source": [
    "## Reduce Function"
   ]
  },
  {
   "cell_type": "code",
   "execution_count": 9,
   "id": "fc51fe72-d994-4636-befa-7fdea4d5a81c",
   "metadata": {},
   "outputs": [],
   "source": [
    "## 1.\tWhat is the `reduce()` function in Python, and what module should you import to use it? Provide an example of its basic usage."
   ]
  },
  {
   "cell_type": "markdown",
   "id": "fbd2a18f-aa3e-4f54-a7cd-a8127a0d4689",
   "metadata": {},
   "source": [
    "The reduce() function in Python is a built-in function that applies a given function to the elements of an iterable, reducing them to a single value. It is defined in the functools module."
   ]
  },
  {
   "cell_type": "code",
   "execution_count": 11,
   "id": "c52fd8b6-c156-46d9-9179-53fea9362e2d",
   "metadata": {},
   "outputs": [
    {
     "data": {
      "text/plain": [
       "49"
      ]
     },
     "execution_count": 11,
     "metadata": {},
     "output_type": "execute_result"
    }
   ],
   "source": [
    "## Basic example of reduce example\n",
    "\n",
    "from functools import reduce\n",
    "\n",
    "input_list = [1,2,3,34,4,5]\n",
    "\n",
    "Final_output = reduce(lambda x, y : x + y, input_list)\n",
    "\n",
    "Final_output "
   ]
  },
  {
   "cell_type": "code",
   "execution_count": 12,
   "id": "5cf4af46-dd0e-4c50-9fdd-19338116d746",
   "metadata": {},
   "outputs": [],
   "source": [
    "## 2.\tWrite a Python program that uses the `reduce()` function to find the product of all elements in a list."
   ]
  },
  {
   "cell_type": "code",
   "execution_count": 14,
   "id": "2ac7017b-6058-4e20-88fa-2a65e44ba5d2",
   "metadata": {},
   "outputs": [
    {
     "data": {
      "text/plain": [
       "3415776"
      ]
     },
     "execution_count": 14,
     "metadata": {},
     "output_type": "execute_result"
    }
   ],
   "source": [
    "List2 = [1,34,23,56,78]\n",
    "\n",
    "Product_List = reduce(lambda x, y : x*y, List2)\n",
    "\n",
    "Product_List"
   ]
  },
  {
   "cell_type": "code",
   "execution_count": 15,
   "id": "ce0b3067-7276-4777-9f6f-13cbb6c27f2e",
   "metadata": {},
   "outputs": [],
   "source": [
    "## 3.\tCreate a Python program that uses `reduce()` to find the maximum element in a list of numbers"
   ]
  },
  {
   "cell_type": "code",
   "execution_count": 22,
   "id": "9ef51d51-705d-4d72-8bb0-add50caff3c9",
   "metadata": {},
   "outputs": [
    {
     "data": {
      "text/plain": [
       "99"
      ]
     },
     "execution_count": 22,
     "metadata": {},
     "output_type": "execute_result"
    }
   ],
   "source": [
    "from functools import reduce\n",
    "\n",
    "List3 = [1,34,23,99,76]\n",
    "\n",
    "Max_element = reduce(max, List3)\n",
    "\n",
    "Max_element \n"
   ]
  },
  {
   "cell_type": "code",
   "execution_count": 23,
   "id": "60fb32f6-3888-4630-b816-57edfc420923",
   "metadata": {},
   "outputs": [],
   "source": [
    "## 4.\tHow can you use the `reduce()` function to concatenate a list of strings into a single string?"
   ]
  },
  {
   "cell_type": "code",
   "execution_count": 30,
   "id": "65bcdcbb-e312-4958-82cc-655c67aa1063",
   "metadata": {},
   "outputs": [
    {
     "data": {
      "text/plain": [
       "'AmitNikshitNavina'"
      ]
     },
     "execution_count": 30,
     "metadata": {},
     "output_type": "execute_result"
    }
   ],
   "source": [
    "String_List = [\"Amit\", \"Nikshit\", \"Navina\"]\n",
    "\n",
    "Final_String = reduce(lambda x, y : x + \" \" + y, String_List)\n",
    "\n",
    "Final_String"
   ]
  },
  {
   "cell_type": "code",
   "execution_count": 31,
   "id": "2eb4e633-0edc-44a4-a696-8694260c0091",
   "metadata": {},
   "outputs": [],
   "source": [
    "## 5.\tWrite a Python program that calculates the factorial of a number using the `reduce()` function."
   ]
  },
  {
   "cell_type": "code",
   "execution_count": 55,
   "id": "882cf727-5f56-4698-84d1-4cffc6612c11",
   "metadata": {},
   "outputs": [],
   "source": [
    "def factorial(n):\n",
    "    if n == 0:\n",
    "        return 1\n",
    "    else:\n",
    "        fact = reduce(lambda x,y: x*y, range(1, n+1))\n",
    "        return fact\n",
    "    \n",
    "    \n",
    "        \n",
    "    \n",
    "        \n",
    "    "
   ]
  },
  {
   "cell_type": "code",
   "execution_count": null,
   "id": "76d6a6c2-0517-4260-a0a7-1f0a8165e583",
   "metadata": {},
   "outputs": [
    {
     "data": {
      "text/plain": [
       "2"
      ]
     },
     "execution_count": 57,
     "metadata": {},
     "output_type": "execute_result"
    }
   ],
   "source": [
    "factorial(2)"
   ]
  },
  {
   "cell_type": "code",
   "execution_count": null,
   "id": "3a5ce8d4-b511-4636-a350-b0c3724b1df6",
   "metadata": {},
   "outputs": [],
   "source": [
    "## Write a Python program that uses the `reduce()` function to find the sum of the digits of a given number."
   ]
  },
  {
   "cell_type": "code",
   "execution_count": 1,
   "id": "deff5bd5-668c-4f7a-a578-a5ad5e82ff6a",
   "metadata": {},
   "outputs": [
    {
     "name": "stdout",
     "output_type": "stream",
     "text": [
      "The sum of digits in 12345 is 15\n"
     ]
    }
   ],
   "source": [
    "import functools\n",
    "\n",
    "def sum_of_digits(n):\n",
    "    if n < 0:\n",
    "        raise ValueError(\"Invalid input: Cannot calculate sum of digits for negative numbers\")\n",
    "\n",
    "    digits = [int(d) for d in str(n)]\n",
    "    sum_of_digits = functools.reduce(lambda x, y: x + y, digits)\n",
    "    return sum_of_digits\n",
    "\n",
    "# Example usage\n",
    "number = 12345\n",
    "digit_sum = sum_of_digits(number)\n",
    "print(\"The sum of digits in\", number, \"is\", digit_sum)"
   ]
  },
  {
   "cell_type": "code",
   "execution_count": 2,
   "id": "941dca5c-914e-4321-8a9e-c7b7196c7940",
   "metadata": {},
   "outputs": [],
   "source": [
    "## Filter Function"
   ]
  },
  {
   "cell_type": "code",
   "execution_count": 3,
   "id": "65a9a3ba-e763-4144-8a3a-4ba697c70f30",
   "metadata": {},
   "outputs": [],
   "source": [
    "## 1.\tExplain the purpose of the `filter()` function in Python and provide an example of how it can be used to filter elements from an iterable."
   ]
  },
  {
   "cell_type": "markdown",
   "id": "abf889da-64bf-4cb3-bb06-f6e41e5b44b0",
   "metadata": {},
   "source": [
    "The filter() function in Python is used to filter elements from an iterable based on a predicate function. It takes an iterable and a function as arguments. The function is called for each element in the iterable, and the element is included in the result if the function returns True. The filter() function returns an iterator, which can be converted to a list using the list() function.\n",
    "\n"
   ]
  },
  {
   "cell_type": "code",
   "execution_count": 5,
   "id": "071ba9ec-79ce-4129-8036-2fa233d79cdd",
   "metadata": {},
   "outputs": [
    {
     "data": {
      "text/plain": [
       "[12, 16, 28]"
      ]
     },
     "execution_count": 5,
     "metadata": {},
     "output_type": "execute_result"
    }
   ],
   "source": [
    "## For Example \n",
    "\n",
    "Input_List = [12,16,28,67,45]\n",
    "\n",
    "Result = filter(lambda x : x%2 == 0, Input_List)\n",
    "\n",
    "list(Result)\n"
   ]
  },
  {
   "cell_type": "code",
   "execution_count": 6,
   "id": "39e216b2-a363-43f1-adb9-6baf5c6796c1",
   "metadata": {},
   "outputs": [],
   "source": [
    "## 3.\tCreate a Python program that uses the `filter()` function to select names that start with a specific letter from a list of strings."
   ]
  },
  {
   "cell_type": "code",
   "execution_count": 8,
   "id": "bbec8b94-5473-4286-a0c0-df6a83a5b866",
   "metadata": {},
   "outputs": [
    {
     "data": {
      "text/plain": [
       "['Amit', 'Ankit']"
      ]
     },
     "execution_count": 8,
     "metadata": {},
     "output_type": "execute_result"
    }
   ],
   "source": [
    "String_List = [\"Amit\", \"Bahedia\", \"Ankit\", \"Nikshit\"]\n",
    "\n",
    "result = filter(lambda x : x[0] == \"A\", String_List)\n",
    "\n",
    "list(result)"
   ]
  },
  {
   "cell_type": "code",
   "execution_count": 9,
   "id": "a84bec1a-48db-4cde-b019-3ef9a8ad0eb3",
   "metadata": {},
   "outputs": [],
   "source": [
    "## 4.\tWrite a Python program that uses the `filter()` function to select prime numbers from a list of integers."
   ]
  },
  {
   "cell_type": "code",
   "execution_count": 12,
   "id": "24e18f4e-7f91-4510-9cc0-5eb36fd85f3a",
   "metadata": {},
   "outputs": [
    {
     "data": {
      "text/plain": [
       "[3, 5, 7]"
      ]
     },
     "execution_count": 12,
     "metadata": {},
     "output_type": "execute_result"
    }
   ],
   "source": [
    "def prime_number(num):\n",
    "    \n",
    "    if num < 2:\n",
    "        return False\n",
    "    \n",
    "    for i in range(2, int(num**0.5) + 1):\n",
    "        if num%i == 0:\n",
    "            return False\n",
    "    \n",
    "    return True\n",
    "\n",
    "def filter_prime_numbers(numbers):\n",
    "    return list(filter(prime_number, numbers))\n",
    "\n",
    "numbers = [3,5,6,7,45,34]\n",
    "\n",
    "filter_prime_numbers(numbers)\n",
    "\n",
    "    "
   ]
  },
  {
   "cell_type": "code",
   "execution_count": 10,
   "id": "32f3dc9a-0469-426a-8d31-aeca397e0ab2",
   "metadata": {},
   "outputs": [
    {
     "data": {
      "text/plain": [
       "True"
      ]
     },
     "execution_count": 10,
     "metadata": {},
     "output_type": "execute_result"
    }
   ],
   "source": [
    "prime_number(3)"
   ]
  },
  {
   "cell_type": "code",
   "execution_count": 26,
   "id": "ac55eb21-1b5a-43ac-9fc8-a088f715f909",
   "metadata": {},
   "outputs": [],
   "source": [
    "## 5.\tHow can you use the `filter()` function to remove None values from a list in Python"
   ]
  },
  {
   "cell_type": "code",
   "execution_count": 29,
   "id": "158531d8-fefc-4f64-861c-421bce3fd9f5",
   "metadata": {},
   "outputs": [
    {
     "data": {
      "text/plain": [
       "[1, 3, 4, 6, 8, 9]"
      ]
     },
     "execution_count": 29,
     "metadata": {},
     "output_type": "execute_result"
    }
   ],
   "source": [
    "original_list = [1, None, 3, 4, None, 6, None, 8, 9, None]\n",
    "\n",
    "def remove_none_values(element):\n",
    "    return element is not None ## We can remove none value using is not operator\n",
    "\n",
    "filtered_list = list(filter(remove_none_values, original_list))\n",
    "filtered_list\n"
   ]
  },
  {
   "cell_type": "code",
   "execution_count": 30,
   "id": "1145f1fb-e1d5-4b81-84b5-04891c4e2f19",
   "metadata": {},
   "outputs": [],
   "source": [
    "## 6.\tCreate a Python program that uses `filter()` to select words longer than a certain length from a list of strings."
   ]
  },
  {
   "cell_type": "code",
   "execution_count": 35,
   "id": "9192a669-385e-4c21-8634-53bad9df13e4",
   "metadata": {},
   "outputs": [
    {
     "data": {
      "text/plain": [
       "['bahedia', 'Nikshit']"
      ]
     },
     "execution_count": 35,
     "metadata": {},
     "output_type": "execute_result"
    }
   ],
   "source": [
    "original_string_list = [\"Amit\", \"bahedia\", \"Nikshit\", \"neha\"]\n",
    "\n",
    "def Longer_words(word, Length = 5): ## Input len is given as 5\n",
    "    if len(word) > Length:\n",
    "        return word\n",
    "\n",
    "List_with_specific_words = list(filter(Longer_words, original_string_list))\n",
    "List_with_specific_words \n",
    "                        \n",
    "                                \n"
   ]
  },
  {
   "cell_type": "code",
   "execution_count": 36,
   "id": "a44b12c2-9764-4cb6-b823-ca9fe3ee78eb",
   "metadata": {},
   "outputs": [],
   "source": [
    "## 7.\tWrite a Python program that uses the `filter()` function to select elements greater than a specified threshold from a list of values."
   ]
  },
  {
   "cell_type": "code",
   "execution_count": 39,
   "id": "f44147c2-24a2-4d93-a859-f36220875612",
   "metadata": {},
   "outputs": [
    {
     "data": {
      "text/plain": [
       "[12, 34, 56]"
      ]
     },
     "execution_count": 39,
     "metadata": {},
     "output_type": "execute_result"
    }
   ],
   "source": [
    "Original_List = [12,3,4,4,34,5,56]\n",
    "\n",
    "def elements_greater_than_threshold(value, threshold = 10):\n",
    "    return value > threshold\n",
    "\n",
    "List_with_selected_elements = list(filter(elements_greater_than_threshold, Original_List))\n",
    "List_with_selected_elements"
   ]
  },
  {
   "cell_type": "code",
   "execution_count": 1,
   "id": "b217e559-c6d0-4a7e-9313-ef41cc7e5086",
   "metadata": {},
   "outputs": [],
   "source": [
    "## Recursion Problems"
   ]
  },
  {
   "cell_type": "code",
   "execution_count": 2,
   "id": "27ccf2a5-777e-42d2-b0a8-0ed7e433cb99",
   "metadata": {},
   "outputs": [],
   "source": [
    "## ## Write a Python program to calculate the factorial of a number using recursion"
   ]
  },
  {
   "cell_type": "code",
   "execution_count": 3,
   "id": "02a04eec-bdae-4940-9800-fca48feae282",
   "metadata": {},
   "outputs": [],
   "source": [
    "def factorial(n):\n",
    "  if n == 0:\n",
    "    return 1\n",
    "  else:\n",
    "    return n * factorial(n-1)"
   ]
  },
  {
   "cell_type": "code",
   "execution_count": 4,
   "id": "46d75558-bf6b-40f8-a5c8-9264c41bf9e8",
   "metadata": {},
   "outputs": [],
   "source": [
    "## ## Create a recursive Python function to find the nth Fibonacci number"
   ]
  },
  {
   "cell_type": "code",
   "execution_count": 5,
   "id": "cc5244ae-5d67-420e-a8d2-119ae6066860",
   "metadata": {},
   "outputs": [],
   "source": [
    "def fib_number(n):\n",
    "  if n <= 1:\n",
    "    return n\n",
    "  else:\n",
    "    return fib_number(n-1) + fib_number(n-2)"
   ]
  },
  {
   "cell_type": "code",
   "execution_count": 9,
   "id": "809eeda9-8384-4ba7-b9b7-cb7909c3941e",
   "metadata": {},
   "outputs": [],
   "source": [
    "## Write a recursive Python function to calculate the sum of all elements in a list."
   ]
  },
  {
   "cell_type": "code",
   "execution_count": 10,
   "id": "3339f16b-9ec0-4177-a958-460b828c3ba5",
   "metadata": {},
   "outputs": [],
   "source": [
    "def sum_element(List1):\n",
    "  if not List1:\n",
    "    return 0\n",
    "  else:\n",
    "    return List1[0] + sum_element(List1[1:])"
   ]
  },
  {
   "cell_type": "code",
   "execution_count": 11,
   "id": "251890da-0c96-4151-afb5-b7e3e2a7a405",
   "metadata": {},
   "outputs": [],
   "source": [
    "## Write a recursive Python function to reverse a string"
   ]
  },
  {
   "cell_type": "code",
   "execution_count": 12,
   "id": "981584f2-04e4-4560-af47-e4c8b0217098",
   "metadata": {},
   "outputs": [],
   "source": [
    "def reverse_string(Str1):\n",
    "  if len(Str1) == 0:\n",
    "    return Str1\n",
    "  else:\n",
    "    return reverse_string(Str1[1::]) + Str1[0]"
   ]
  },
  {
   "cell_type": "code",
   "execution_count": 13,
   "id": "2d9e66bc-5880-45b7-8210-a9fb7d384d44",
   "metadata": {},
   "outputs": [],
   "source": [
    "##Create a recursive Python function to calculate the power of a number (x^n)"
   ]
  },
  {
   "cell_type": "code",
   "execution_count": 14,
   "id": "c408f8d3-aef2-4092-9405-147afbd8b426",
   "metadata": {},
   "outputs": [],
   "source": [
    "def power_of_number(x, n):\n",
    "  if n == 0:\n",
    "    return 1\n",
    "  else:\n",
    "    return x * power_of_number(x,n-1)"
   ]
  },
  {
   "cell_type": "code",
   "execution_count": 15,
   "id": "9f01cb61-d38b-4c78-943d-00e86d2ec755",
   "metadata": {},
   "outputs": [],
   "source": [
    "## Write a recursive Python function to find all permutations of a given string"
   ]
  },
  {
   "cell_type": "code",
   "execution_count": 16,
   "id": "227f300d-6629-4053-a801-962546f6f951",
   "metadata": {},
   "outputs": [],
   "source": [
    "def find_permutation(str1):\n",
    "  ## base case\n",
    "  if len(str1) == 0:\n",
    "    return [''] ## empty list\n",
    "  elif len(str1) == 1:\n",
    "    return str1\n",
    "\n",
    "  else:\n",
    "    perms = []\n",
    "    for i,c in enumerate(str1):\n",
    "      for perm in find_permutation(str1[:i] + str1[i+1:]):\n",
    "        perms.append(c + perm)\n",
    "    return perms"
   ]
  },
  {
   "cell_type": "code",
   "execution_count": 17,
   "id": "7307661b-4a26-479d-a5b1-b36a65616cf3",
   "metadata": {},
   "outputs": [],
   "source": [
    "## Write a recursive Python function to check if a string is a palindrome."
   ]
  },
  {
   "cell_type": "code",
   "execution_count": 9,
   "id": "df249c2a-edaa-444c-9533-9bb13de45bfd",
   "metadata": {},
   "outputs": [],
   "source": [
    "def palindrome(str1):\n",
    "    \n",
    "    if len(str1) == 0 or len(str1) == 1:\n",
    "        return True\n",
    "    \n",
    "    if str1[0] != str1[-1]:\n",
    "        return False\n",
    "        \n",
    "    else:\n",
    "        return palindrome(str1[1:-1])\n",
    "        \n",
    "    \n",
    "     \n",
    "    "
   ]
  },
  {
   "cell_type": "code",
   "execution_count": 11,
   "id": "71bacba1-3f46-48e1-b7a7-324b7178e44f",
   "metadata": {},
   "outputs": [
    {
     "name": "stdout",
     "output_type": "stream",
     "text": [
      "Amit is not palindrome\n"
     ]
    }
   ],
   "source": [
    "str1 = \"Amit\"\n",
    "\n",
    "if palindrome(str1):\n",
    "    print(str1 + \" is palindrome\")\n",
    "else:\n",
    "    print(str1 + \" is not palindrome\")"
   ]
  },
  {
   "cell_type": "code",
   "execution_count": 12,
   "id": "27108f13-9c05-462a-8a99-f1b7fc4d14fd",
   "metadata": {},
   "outputs": [],
   "source": [
    "## Create a recursive Python function to generate all possible combinations of a list of elements"
   ]
  },
  {
   "cell_type": "code",
   "execution_count": 48,
   "id": "8634ac31-cb60-4b33-8ebb-997d24eabcbb",
   "metadata": {},
   "outputs": [],
   "source": [
    "def possible_combination_list(list1):\n",
    "  if not list1:\n",
    "    return ['']\n",
    "  elif len(list1) == 1:\n",
    "    return list1\n",
    "  else:\n",
    "    remaining_combinations = possible_combination_list(list1[1:])\n",
    "    return remaining_combinations + [list1[0] + i for i in remaining_combinations]"
   ]
  },
  {
   "cell_type": "code",
   "execution_count": 50,
   "id": "5eb10dd7-9b6c-4bfd-9640-f499b16ad464",
   "metadata": {},
   "outputs": [
    {
     "data": {
      "text/plain": [
       "['c', 'bc', 'ac', 'abc']"
      ]
     },
     "execution_count": 50,
     "metadata": {},
     "output_type": "execute_result"
    }
   ],
   "source": [
    "possible_combination_list([\"a\", \"b\", \"c\"])"
   ]
  },
  {
   "cell_type": "code",
   "execution_count": null,
   "id": "1f7724a7-7c59-4c39-bf87-0b6b35756666",
   "metadata": {},
   "outputs": [],
   "source": []
  }
 ],
 "metadata": {
  "kernelspec": {
   "display_name": "Python 3 (ipykernel)",
   "language": "python",
   "name": "python3"
  },
  "language_info": {
   "codemirror_mode": {
    "name": "ipython",
    "version": 3
   },
   "file_extension": ".py",
   "mimetype": "text/x-python",
   "name": "python",
   "nbconvert_exporter": "python",
   "pygments_lexer": "ipython3",
   "version": "3.10.8"
  }
 },
 "nbformat": 4,
 "nbformat_minor": 5
}
